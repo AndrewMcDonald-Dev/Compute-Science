{
 "cells": [
  {
   "cell_type": "markdown",
   "id": "fe47aa30-987d-4e26-b891-35701e1c7600",
   "metadata": {},
   "source": [
    "# A. Load and then shuffling data"
   ]
  },
  {
   "cell_type": "code",
   "execution_count": 28,
   "id": "027b0e2d-3fe3-4159-b2b4-8c50896c7095",
   "metadata": {},
   "outputs": [],
   "source": [
    "import numpy as np\n",
    "import pandas as pd"
   ]
  },
  {
   "cell_type": "code",
   "execution_count": 29,
   "id": "f430c9c7-09b2-4904-b185-705b5495629a",
   "metadata": {},
   "outputs": [],
   "source": [
    "file = pd.read_csv(\"sonar.all-data.csv\")"
   ]
  },
  {
   "cell_type": "code",
   "execution_count": 30,
   "id": "e0744199-1710-4429-9aa8-ce9d4d34d5ce",
   "metadata": {},
   "outputs": [],
   "source": [
    "data = file.sample(frac=1, random_state=12).reset_index(drop=True)"
   ]
  },
  {
   "cell_type": "markdown",
   "id": "991582ea-544f-4356-a78a-6d97473fba61",
   "metadata": {},
   "source": [
    "# B. Counting Cols and Rows"
   ]
  },
  {
   "cell_type": "code",
   "execution_count": 31,
   "id": "e2944426-4186-44d2-809b-cc8934ccc065",
   "metadata": {},
   "outputs": [
    {
     "data": {
      "text/plain": [
       "(207, 61)"
      ]
     },
     "execution_count": 31,
     "metadata": {},
     "output_type": "execute_result"
    }
   ],
   "source": [
    "data.shape"
   ]
  },
  {
   "cell_type": "markdown",
   "id": "b62fa070-a8e0-4765-ad4a-d1d7fbd75697",
   "metadata": {},
   "source": [
    "# C. Splitting Data"
   ]
  },
  {
   "cell_type": "code",
   "execution_count": 32,
   "id": "dae28618-c627-4e0a-884d-a99e0befcbf1",
   "metadata": {},
   "outputs": [],
   "source": [
    "splitInd = int(np.floor(data.shape[0] *0.2))"
   ]
  },
  {
   "cell_type": "code",
   "execution_count": 33,
   "id": "3665f7f2-52cc-4d28-bab2-175491220e97",
   "metadata": {},
   "outputs": [],
   "source": [
    "train_data = data.iloc[splitInd:]\n",
    "test_data = data.iloc[:splitInd]"
   ]
  },
  {
   "cell_type": "code",
   "execution_count": 34,
   "id": "19888238-9eb3-4ea0-8ed2-443a0cc42aec",
   "metadata": {},
   "outputs": [
    {
     "data": {
      "text/plain": [
       "0.8019323671497585"
      ]
     },
     "execution_count": 34,
     "metadata": {},
     "output_type": "execute_result"
    }
   ],
   "source": [
    "train_data.shape[0] / data.shape[0]"
   ]
  },
  {
   "cell_type": "code",
   "execution_count": 35,
   "id": "38984f21-5805-4a27-8be0-de97f3c572df",
   "metadata": {},
   "outputs": [
    {
     "data": {
      "text/plain": [
       "0.19806763285024154"
      ]
     },
     "execution_count": 35,
     "metadata": {},
     "output_type": "execute_result"
    }
   ],
   "source": [
    "test_data.shape[0] / data.shape[0]"
   ]
  },
  {
   "cell_type": "markdown",
   "id": "5810d22b-0ca5-4ed6-993e-6d77cd78c3f5",
   "metadata": {},
   "source": [
    "# D. Separate Label"
   ]
  },
  {
   "cell_type": "code",
   "execution_count": 36,
   "id": "d46865c5-7b0f-4f53-94c2-83afa413395e",
   "metadata": {},
   "outputs": [
    {
     "data": {
      "text/plain": [
       "(166, 60)"
      ]
     },
     "execution_count": 36,
     "metadata": {},
     "output_type": "execute_result"
    }
   ],
   "source": [
    "x_train = train_data.iloc[:, :-1]\n",
    "x_train.shape"
   ]
  },
  {
   "cell_type": "code",
   "execution_count": 37,
   "id": "bbd4c7f8-2a58-4848-ab73-e87966ad15b2",
   "metadata": {},
   "outputs": [
    {
     "data": {
      "text/plain": [
       "(166, 1)"
      ]
     },
     "execution_count": 37,
     "metadata": {},
     "output_type": "execute_result"
    }
   ],
   "source": [
    "y_train = train_data.iloc[:, -1:]\n",
    "y_train.shape"
   ]
  },
  {
   "cell_type": "code",
   "execution_count": 38,
   "id": "374c9ec5-4010-4c1a-aa3e-767c798a6c6a",
   "metadata": {},
   "outputs": [
    {
     "data": {
      "text/plain": [
       "(41, 60)"
      ]
     },
     "execution_count": 38,
     "metadata": {},
     "output_type": "execute_result"
    }
   ],
   "source": [
    "x_test = test_data.iloc[:, :-1]\n",
    "x_test.shape"
   ]
  },
  {
   "cell_type": "code",
   "execution_count": 39,
   "id": "4705bd4a-baa0-4306-8cbb-e6486c9dc206",
   "metadata": {},
   "outputs": [
    {
     "data": {
      "text/plain": [
       "(41, 1)"
      ]
     },
     "execution_count": 39,
     "metadata": {},
     "output_type": "execute_result"
    }
   ],
   "source": [
    "y_test = test_data.iloc[:, -1:]\n",
    "y_test.shape"
   ]
  },
  {
   "cell_type": "code",
   "execution_count": null,
   "id": "1cc8b7f6-3a68-4213-8036-1c9010b2ed17",
   "metadata": {},
   "outputs": [],
   "source": []
  }
 ],
 "metadata": {
  "kernelspec": {
   "display_name": "Python 3 (ipykernel)",
   "language": "python",
   "name": "python3"
  },
  "language_info": {
   "codemirror_mode": {
    "name": "ipython",
    "version": 3
   },
   "file_extension": ".py",
   "mimetype": "text/x-python",
   "name": "python",
   "nbconvert_exporter": "python",
   "pygments_lexer": "ipython3",
   "version": "3.10.2"
  }
 },
 "nbformat": 4,
 "nbformat_minor": 5
}
