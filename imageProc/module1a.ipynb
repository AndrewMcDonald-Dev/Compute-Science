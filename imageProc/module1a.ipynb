{
 "cells": [
  {
   "cell_type": "code",
   "execution_count": 13,
   "id": "14bae46b",
   "metadata": {},
   "outputs": [],
   "source": [
    "import cv2\n",
    "import numpy as np\n",
    "from numpy import interp"
   ]
  },
  {
   "cell_type": "code",
   "execution_count": 14,
   "id": "73bcb68b",
   "metadata": {},
   "outputs": [],
   "source": [
    "def rgb_to_hsv(rgb):\n",
    "    # Normalize color values\n",
    "    rgb = rgb/255\n",
    "    \n",
    "    #Initialize HSV\n",
    "    h = 0.0\n",
    "    s = 0.0\n",
    "    v = 0.0\n",
    "    \n",
    "    v = np.max(rgb)\n",
    "    vMin = np.min(rgb)\n",
    "    \n",
    "    if(v>0.0):\n",
    "        s = (v - vMin)/v\n",
    "    else:\n",
    "        s = 0.0\n",
    "    \n",
    "    diff = (v - vMin)\n",
    "    \n",
    "    if(rgb[0] == rgb[1] and rgb[1] == rgb[2]):\n",
    "        h = 0\n",
    "    elif(rgb[0] == v):\n",
    "        h = 60 * (rgb[1] - rgb[2])/diff\n",
    "    elif(rgb[1] == v):\n",
    "        h = 120 + 60 * (rgb[2] - rgb[0])/diff\n",
    "    elif(rgb[2] == v):\n",
    "        h= 240 + 60 * (rgb[0] - rgb[1])/diff\n",
    "        \n",
    "    h = round(h/2)\n",
    "    s = round(np.interp(s,[0,1],[0,255]))\n",
    "    v = round(np.interp(v,[0,1],[0,255]))\n",
    "    \n",
    "    return np.array([h,s,v])\n",
    "        "
   ]
  },
  {
   "cell_type": "code",
   "execution_count": 15,
   "id": "14ef0314",
   "metadata": {},
   "outputs": [],
   "source": [
    "rgb = np.array([200, 74, 55])\n",
    "\n",
    "hsv = rgb_to_hsv(rgb)"
   ]
  },
  {
   "cell_type": "code",
   "execution_count": 16,
   "id": "38e5d3b7",
   "metadata": {},
   "outputs": [
    {
     "name": "stdout",
     "output_type": "stream",
     "text": [
      "The original rgb value: [200  74  55]\n",
      "Converted to hsv: [  4 185 200]\n"
     ]
    }
   ],
   "source": [
    "print(\"The original rgb value:\", rgb)\n",
    "print(\"Converted to hsv:\", hsv)"
   ]
  },
  {
   "cell_type": "code",
   "execution_count": 17,
   "id": "fbaf87f1",
   "metadata": {},
   "outputs": [
    {
     "name": "stdout",
     "output_type": "stream",
     "text": [
      "OpenCv hsv: [[[  4 185 200]]]\n"
     ]
    }
   ],
   "source": [
    "rgb_cv = np.uint8([[[200,74,55]]])\n",
    "hsv_cv = cv2.cvtColor(rgb_cv, cv2.COLOR_RGB2HSV)\n",
    "print(\"OpenCv hsv:\", hsv_cv)"
   ]
  },
  {
   "cell_type": "code",
   "execution_count": 18,
   "id": "c8ca2d47",
   "metadata": {},
   "outputs": [
    {
     "name": "stdout",
     "output_type": "stream",
     "text": [
      "Hsv converted to OpenCv's range: [[[2, 185, 200]]]\n"
     ]
    }
   ],
   "source": [
    "s = np.interp(.725,[0,1],[0,255])\n",
    "v = np.interp(.78431,[0,1],[0,255])\n",
    "print(\"Hsv converted to OpenCv's range:\", [[[round(hsv[0]/2),round(s),round(v)]]])"
   ]
  },
  {
   "cell_type": "code",
   "execution_count": null,
   "id": "6fc829a5",
   "metadata": {},
   "outputs": [],
   "source": []
  },
  {
   "cell_type": "code",
   "execution_count": null,
   "id": "5779f348",
   "metadata": {},
   "outputs": [],
   "source": []
  }
 ],
 "metadata": {
  "kernelspec": {
   "display_name": "Python 3 (ipykernel)",
   "language": "python",
   "name": "python3"
  },
  "language_info": {
   "codemirror_mode": {
    "name": "ipython",
    "version": 3
   },
   "file_extension": ".py",
   "mimetype": "text/x-python",
   "name": "python",
   "nbconvert_exporter": "python",
   "pygments_lexer": "ipython3",
   "version": "3.10.9"
  }
 },
 "nbformat": 4,
 "nbformat_minor": 5
}
